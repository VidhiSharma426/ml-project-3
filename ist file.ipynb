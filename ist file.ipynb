{
 "cells": [
  {
   "cell_type": "markdown",
   "id": "cc5124d3",
   "metadata": {},
   "source": [
    "## Dragon Real Estate\n"
   ]
  },
  {
   "cell_type": "code",
   "execution_count": 1,
   "id": "a1906355",
   "metadata": {},
   "outputs": [],
   "source": [
    "import pandas as pd"
   ]
  },
  {
   "cell_type": "code",
   "execution_count": 2,
   "id": "065fcdba",
   "metadata": {},
   "outputs": [],
   "source": [
    "housing = pd.read_csv(\"data.csv\")"
   ]
  },
  {
   "cell_type": "code",
   "execution_count": 3,
   "id": "64799e12",
   "metadata": {},
   "outputs": [
    {
     "data": {
      "text/html": [
       "<div>\n",
       "<style scoped>\n",
       "    .dataframe tbody tr th:only-of-type {\n",
       "        vertical-align: middle;\n",
       "    }\n",
       "\n",
       "    .dataframe tbody tr th {\n",
       "        vertical-align: top;\n",
       "    }\n",
       "\n",
       "    .dataframe thead th {\n",
       "        text-align: right;\n",
       "    }\n",
       "</style>\n",
       "<table border=\"1\" class=\"dataframe\">\n",
       "  <thead>\n",
       "    <tr style=\"text-align: right;\">\n",
       "      <th></th>\n",
       "      <th>CRIM</th>\n",
       "      <th>ZN</th>\n",
       "      <th>INDUS</th>\n",
       "      <th>CHAS</th>\n",
       "      <th>NOX</th>\n",
       "      <th>RM</th>\n",
       "      <th>AGE</th>\n",
       "      <th>DIS</th>\n",
       "      <th>RAD</th>\n",
       "      <th>TAX</th>\n",
       "      <th>PTRATIO</th>\n",
       "      <th>B</th>\n",
       "      <th>LSTAT</th>\n",
       "      <th>MEDV</th>\n",
       "    </tr>\n",
       "  </thead>\n",
       "  <tbody>\n",
       "    <tr>\n",
       "      <th>0</th>\n",
       "      <td>0.02731</td>\n",
       "      <td>0.0</td>\n",
       "      <td>7.07</td>\n",
       "      <td>0</td>\n",
       "      <td>0.469</td>\n",
       "      <td>6.421</td>\n",
       "      <td>78.9</td>\n",
       "      <td>4.9671</td>\n",
       "      <td>2</td>\n",
       "      <td>242</td>\n",
       "      <td>17.8</td>\n",
       "      <td>396.90</td>\n",
       "      <td>9.14</td>\n",
       "      <td>21.6</td>\n",
       "    </tr>\n",
       "    <tr>\n",
       "      <th>1</th>\n",
       "      <td>0.02729</td>\n",
       "      <td>0.0</td>\n",
       "      <td>7.07</td>\n",
       "      <td>0</td>\n",
       "      <td>0.469</td>\n",
       "      <td>NaN</td>\n",
       "      <td>61.1</td>\n",
       "      <td>4.9671</td>\n",
       "      <td>2</td>\n",
       "      <td>242</td>\n",
       "      <td>17.8</td>\n",
       "      <td>392.83</td>\n",
       "      <td>4.03</td>\n",
       "      <td>34.7</td>\n",
       "    </tr>\n",
       "    <tr>\n",
       "      <th>2</th>\n",
       "      <td>0.03237</td>\n",
       "      <td>0.0</td>\n",
       "      <td>2.18</td>\n",
       "      <td>0</td>\n",
       "      <td>0.458</td>\n",
       "      <td>6.998</td>\n",
       "      <td>45.8</td>\n",
       "      <td>6.0622</td>\n",
       "      <td>3</td>\n",
       "      <td>222</td>\n",
       "      <td>18.7</td>\n",
       "      <td>394.63</td>\n",
       "      <td>2.94</td>\n",
       "      <td>33.4</td>\n",
       "    </tr>\n",
       "    <tr>\n",
       "      <th>3</th>\n",
       "      <td>0.06905</td>\n",
       "      <td>0.0</td>\n",
       "      <td>2.18</td>\n",
       "      <td>0</td>\n",
       "      <td>0.458</td>\n",
       "      <td>7.147</td>\n",
       "      <td>54.2</td>\n",
       "      <td>6.0622</td>\n",
       "      <td>3</td>\n",
       "      <td>222</td>\n",
       "      <td>18.7</td>\n",
       "      <td>396.90</td>\n",
       "      <td>5.33</td>\n",
       "      <td>36.2</td>\n",
       "    </tr>\n",
       "    <tr>\n",
       "      <th>4</th>\n",
       "      <td>0.02985</td>\n",
       "      <td>0.0</td>\n",
       "      <td>2.18</td>\n",
       "      <td>0</td>\n",
       "      <td>0.458</td>\n",
       "      <td>6.430</td>\n",
       "      <td>58.7</td>\n",
       "      <td>6.0622</td>\n",
       "      <td>3</td>\n",
       "      <td>222</td>\n",
       "      <td>18.7</td>\n",
       "      <td>394.12</td>\n",
       "      <td>5.21</td>\n",
       "      <td>28.7</td>\n",
       "    </tr>\n",
       "  </tbody>\n",
       "</table>\n",
       "</div>"
      ],
      "text/plain": [
       "      CRIM   ZN  INDUS  CHAS    NOX     RM   AGE     DIS  RAD  TAX  PTRATIO  \\\n",
       "0  0.02731  0.0   7.07     0  0.469  6.421  78.9  4.9671    2  242     17.8   \n",
       "1  0.02729  0.0   7.07     0  0.469    NaN  61.1  4.9671    2  242     17.8   \n",
       "2  0.03237  0.0   2.18     0  0.458  6.998  45.8  6.0622    3  222     18.7   \n",
       "3  0.06905  0.0   2.18     0  0.458  7.147  54.2  6.0622    3  222     18.7   \n",
       "4  0.02985  0.0   2.18     0  0.458  6.430  58.7  6.0622    3  222     18.7   \n",
       "\n",
       "        B  LSTAT  MEDV  \n",
       "0  396.90   9.14  21.6  \n",
       "1  392.83   4.03  34.7  \n",
       "2  394.63   2.94  33.4  \n",
       "3  396.90   5.33  36.2  \n",
       "4  394.12   5.21  28.7  "
      ]
     },
     "execution_count": 3,
     "metadata": {},
     "output_type": "execute_result"
    }
   ],
   "source": [
    "housing.head()"
   ]
  },
  {
   "cell_type": "code",
   "execution_count": 4,
   "id": "f3e277b4",
   "metadata": {},
   "outputs": [
    {
     "name": "stdout",
     "output_type": "stream",
     "text": [
      "<class 'pandas.core.frame.DataFrame'>\n",
      "RangeIndex: 505 entries, 0 to 504\n",
      "Data columns (total 14 columns):\n",
      " #   Column   Non-Null Count  Dtype  \n",
      "---  ------   --------------  -----  \n",
      " 0   CRIM     505 non-null    float64\n",
      " 1   ZN       505 non-null    float64\n",
      " 2   INDUS    505 non-null    float64\n",
      " 3   CHAS     505 non-null    int64  \n",
      " 4   NOX      505 non-null    float64\n",
      " 5   RM       500 non-null    float64\n",
      " 6   AGE      505 non-null    float64\n",
      " 7   DIS      505 non-null    float64\n",
      " 8   RAD      505 non-null    int64  \n",
      " 9   TAX      505 non-null    int64  \n",
      " 10  PTRATIO  505 non-null    float64\n",
      " 11  B        505 non-null    float64\n",
      " 12  LSTAT    505 non-null    float64\n",
      " 13  MEDV     505 non-null    float64\n",
      "dtypes: float64(11), int64(3)\n",
      "memory usage: 55.4 KB\n"
     ]
    }
   ],
   "source": [
    "housing.info()"
   ]
  },
  {
   "cell_type": "code",
   "execution_count": 5,
   "id": "5837a1f4",
   "metadata": {},
   "outputs": [
    {
     "data": {
      "text/plain": [
       "0    470\n",
       "1     35\n",
       "Name: CHAS, dtype: int64"
      ]
     },
     "execution_count": 5,
     "metadata": {},
     "output_type": "execute_result"
    }
   ],
   "source": [
    "housing['CHAS'].value_counts()"
   ]
  },
  {
   "cell_type": "code",
   "execution_count": 6,
   "id": "91f74220",
   "metadata": {},
   "outputs": [
    {
     "data": {
      "text/plain": [
       "24    132\n",
       "5     115\n",
       "4     110\n",
       "3      38\n",
       "6      26\n",
       "2      24\n",
       "8      24\n",
       "1      19\n",
       "7      17\n",
       "Name: RAD, dtype: int64"
      ]
     },
     "execution_count": 6,
     "metadata": {},
     "output_type": "execute_result"
    }
   ],
   "source": [
    "housing['RAD'].value_counts()"
   ]
  },
  {
   "cell_type": "code",
   "execution_count": 7,
   "id": "6d47cfa9",
   "metadata": {},
   "outputs": [],
   "source": [
    "%matplotlib inline"
   ]
  },
  {
   "cell_type": "code",
   "execution_count": 8,
   "id": "419861ab",
   "metadata": {},
   "outputs": [],
   "source": [
    "import matplotlib.pyplot as plt"
   ]
  },
  {
   "cell_type": "code",
   "execution_count": 9,
   "id": "fae28eec",
   "metadata": {},
   "outputs": [],
   "source": [
    "# draws histogram to gain knowledge about data\n",
    "# housing.hist(bins=50,figsize = (20,15))\n"
   ]
  },
  {
   "cell_type": "code",
   "execution_count": 10,
   "id": "b8b525e5",
   "metadata": {},
   "outputs": [
    {
     "data": {
      "text/plain": [
       "0.538    22\n",
       "0.713    18\n",
       "0.437    17\n",
       "0.871    16\n",
       "0.624    15\n",
       "         ..\n",
       "0.435     1\n",
       "0.518     1\n",
       "0.394     1\n",
       "0.385     1\n",
       "0.389     1\n",
       "Name: NOX, Length: 81, dtype: int64"
      ]
     },
     "execution_count": 10,
     "metadata": {},
     "output_type": "execute_result"
    }
   ],
   "source": [
    "housing['NOX'].value_counts()"
   ]
  },
  {
   "cell_type": "markdown",
   "id": "5ba17969",
   "metadata": {},
   "source": [
    "## train-test splitting"
   ]
  },
  {
   "cell_type": "code",
   "execution_count": 11,
   "id": "82379dd2",
   "metadata": {},
   "outputs": [],
   "source": [
    "# for learning purpose\n",
    "# import numpy as np\n",
    "# def split_test_train(data,test_ratio) :\n",
    "#     np.random.seed(42)\n",
    "#     shuffled = np.random.permutation(len(data))\n",
    "#     print(shuffled)\n",
    "#     test_set_size = int(len(data) *test_ratio)\n",
    "#     test_indices = shuffled[:test_set_size]\n",
    "#     train_indices = shuffled[test_set_size:]\n",
    "#     return data.iloc[train_indices],data.iloc[test_indices]"
   ]
  },
  {
   "cell_type": "code",
   "execution_count": 12,
   "id": "95b74dff",
   "metadata": {},
   "outputs": [],
   "source": [
    "# train_set,test_set = split_test_train(housing,0.2)"
   ]
  },
  {
   "cell_type": "code",
   "execution_count": 13,
   "id": "93a2b5a6",
   "metadata": {},
   "outputs": [
    {
     "name": "stdout",
     "output_type": "stream",
     "text": [
      "Rows in train set: 404 \n",
      " Rows in test set: 101\n"
     ]
    }
   ],
   "source": [
    "from sklearn.model_selection import train_test_split\n",
    "train_set , test_set = train_test_split(housing , test_size = 0.2,random_state = 42)\n",
    "print(f\"Rows in train set: {len(train_set)} \\n Rows in test set: {len(test_set)}\")"
   ]
  },
  {
   "cell_type": "code",
   "execution_count": 14,
   "id": "1ed6bcf6",
   "metadata": {},
   "outputs": [],
   "source": [
    "from sklearn.model_selection import StratifiedShuffleSplit\n",
    "split = StratifiedShuffleSplit(n_splits = 1,test_size = 0.2,random_state = 42)\n",
    "for train_index,test_index in split.split(housing,housing['CHAS']):\n",
    " strat_train_set = housing.loc[train_index]\n",
    " strat_test_set = housing.loc[test_index]"
   ]
  },
  {
   "cell_type": "code",
   "execution_count": 15,
   "id": "8e26497d",
   "metadata": {},
   "outputs": [
    {
     "data": {
      "text/plain": [
       "0    94\n",
       "1     7\n",
       "Name: CHAS, dtype: int64"
      ]
     },
     "execution_count": 15,
     "metadata": {},
     "output_type": "execute_result"
    }
   ],
   "source": [
    " strat_test_set['CHAS'].value_counts()"
   ]
  },
  {
   "cell_type": "code",
   "execution_count": 16,
   "id": "5a7c4f74",
   "metadata": {},
   "outputs": [
    {
     "data": {
      "text/plain": [
       "0    376\n",
       "1     28\n",
       "Name: CHAS, dtype: int64"
      ]
     },
     "execution_count": 16,
     "metadata": {},
     "output_type": "execute_result"
    }
   ],
   "source": [
    " strat_train_set['CHAS'].value_counts()"
   ]
  },
  {
   "cell_type": "code",
   "execution_count": 17,
   "id": "a044b157",
   "metadata": {},
   "outputs": [],
   "source": [
    "housing =  strat_train_set.copy()"
   ]
  },
  {
   "cell_type": "markdown",
   "id": "259ec826",
   "metadata": {},
   "source": [
    "## correlation between the elements"
   ]
  },
  {
   "cell_type": "code",
   "execution_count": 18,
   "id": "6ede79a0",
   "metadata": {},
   "outputs": [],
   "source": [
    "corr_matrix = housing.corr()"
   ]
  },
  {
   "cell_type": "code",
   "execution_count": 19,
   "id": "9821de5e",
   "metadata": {},
   "outputs": [
    {
     "data": {
      "text/plain": [
       "MEDV       1.000000\n",
       "RM         0.661909\n",
       "B          0.344609\n",
       "ZN         0.329206\n",
       "DIS        0.231680\n",
       "CHAS       0.215042\n",
       "RAD       -0.362619\n",
       "AGE       -0.378913\n",
       "CRIM      -0.397993\n",
       "NOX       -0.421815\n",
       "TAX       -0.441617\n",
       "INDUS     -0.448303\n",
       "PTRATIO   -0.486045\n",
       "LSTAT     -0.739129\n",
       "Name: MEDV, dtype: float64"
      ]
     },
     "execution_count": 19,
     "metadata": {},
     "output_type": "execute_result"
    }
   ],
   "source": [
    "corr_matrix['MEDV'].sort_values(ascending = False)"
   ]
  },
  {
   "cell_type": "code",
   "execution_count": 20,
   "id": "f5980dd6",
   "metadata": {},
   "outputs": [
    {
     "data": {
      "text/plain": [
       "array([[<AxesSubplot:xlabel='MEDV', ylabel='MEDV'>,\n",
       "        <AxesSubplot:xlabel='RM', ylabel='MEDV'>,\n",
       "        <AxesSubplot:xlabel='ZN', ylabel='MEDV'>,\n",
       "        <AxesSubplot:xlabel='LSTAT', ylabel='MEDV'>],\n",
       "       [<AxesSubplot:xlabel='MEDV', ylabel='RM'>,\n",
       "        <AxesSubplot:xlabel='RM', ylabel='RM'>,\n",
       "        <AxesSubplot:xlabel='ZN', ylabel='RM'>,\n",
       "        <AxesSubplot:xlabel='LSTAT', ylabel='RM'>],\n",
       "       [<AxesSubplot:xlabel='MEDV', ylabel='ZN'>,\n",
       "        <AxesSubplot:xlabel='RM', ylabel='ZN'>,\n",
       "        <AxesSubplot:xlabel='ZN', ylabel='ZN'>,\n",
       "        <AxesSubplot:xlabel='LSTAT', ylabel='ZN'>],\n",
       "       [<AxesSubplot:xlabel='MEDV', ylabel='LSTAT'>,\n",
       "        <AxesSubplot:xlabel='RM', ylabel='LSTAT'>,\n",
       "        <AxesSubplot:xlabel='ZN', ylabel='LSTAT'>,\n",
       "        <AxesSubplot:xlabel='LSTAT', ylabel='LSTAT'>]], dtype=object)"
      ]
     },
     "execution_count": 20,
     "metadata": {},
     "output_type": "execute_result"
    },
    {
     "data": {
      "image/png": "[encoded data removed]",
      "text/plain": [
       "<Figure size 432x288 with 16 Axes>"
      ]
     },
     "metadata": {
      "needs_background": "light"
     },
     "output_type": "display_data"
    }
   ],
   "source": [
    "from pandas.plotting import scatter_matrix\n",
    "attributes = ['MEDV','RM','ZN','LSTAT']\n",
    "scatter_matrix(housing[attributes])"
   ]
  },
  {
   "cell_type": "code",
   "execution_count": 21,
   "id": "ea742265",
   "metadata": {},
   "outputs": [
    {
     "data": {
      "text/plain": [
       "<AxesSubplot:xlabel='RM', ylabel='MEDV'>"
      ]
     },
     "execution_count": 21,
     "metadata": {},
     "output_type": "execute_result"
    },
    {
     "data": {
      "image/png": "[encoded data removed]",
      "text/plain": [
       "<Figure size 432x288 with 1 Axes>"
      ]
     },
     "metadata": {
      "needs_background": "light"
     },
     "output_type": "display_data"
    }
   ],
   "source": [
    "housing.plot(kind = \"scatter\",x = \"RM\",y=\"MEDV\")"
   ]
  },
  {
   "cell_type": "markdown",
   "id": "d57c186f",
   "metadata": {},
   "source": [
    "## Trying out attribute combinations"
   ]
  },
  {
   "cell_type": "code",
   "execution_count": 22,
   "id": "7f469d63",
   "metadata": {},
   "outputs": [],
   "source": [
    "housing[\"TAXRM\"] = housing[\"TAX\"]/ housing[\"RM\"]"
   ]
  },
  {
   "cell_type": "code",
   "execution_count": 23,
   "id": "8071850b",
   "metadata": {},
   "outputs": [
    {
     "data": {
      "text/plain": [
       "<AxesSubplot:xlabel='TAXRM', ylabel='MEDV'>"
      ]
     },
     "execution_count": 23,
     "metadata": {},
     "output_type": "execute_result"
    },
    {
     "data": {
      "image/png": "[encoded data removed]",
      "text/plain": [
       "<Figure size 432x288 with 1 Axes>"
      ]
     },
     "metadata": {
      "needs_background": "light"
     },
     "output_type": "display_data"
    }
   ],
   "source": [
    "housing.plot(kind = \"scatter\",x = \"TAXRM\",y=\"MEDV\")"
   ]
  },
  {
   "cell_type": "code",
   "execution_count": 24,
   "id": "cb0ad576",
   "metadata": {},
   "outputs": [],
   "source": [
    "housing  = strat_train_set.drop(\"MEDV\", axis = 1)\n",
    "housing_labels =strat_train_set[\"MEDV\"].copy() "
   ]
  },
  {
   "cell_type": "markdown",
   "id": "fb48b803",
   "metadata": {},
   "source": [
    "## missing attributes"
   ]
  },
  {
   "cell_type": "code",
   "execution_count": 25,
   "id": "1b63d8c4",
   "metadata": {},
   "outputs": [],
   "source": [
    "# to take care about missing attributes we can do three things\n",
    "# 1 eleiminate the NA values\n",
    "# 2 eliminate the whole column\n",
    "# 3 to put (0,mean,median) values against NA values"
   ]
  },
  {
   "cell_type": "code",
   "execution_count": 26,
   "id": "34223627",
   "metadata": {},
   "outputs": [
    {
     "data": {
      "text/plain": [
       "(400, 13)"
      ]
     },
     "execution_count": 26,
     "metadata": {},
     "output_type": "execute_result"
    }
   ],
   "source": [
    "housing.dropna(subset = [\"RM\"]).shape   # this will not affect the original data"
   ]
  },
  {
   "cell_type": "code",
   "execution_count": 27,
   "id": "b2bdea7c",
   "metadata": {},
   "outputs": [
    {
     "data": {
      "text/plain": [
       "(404, 12)"
      ]
     },
     "execution_count": 27,
     "metadata": {},
     "output_type": "execute_result"
    }
   ],
   "source": [
    "housing.drop(\"RM\",axis = 1).shape# this will not affect the original data"
   ]
  },
  {
   "cell_type": "code",
   "execution_count": 28,
   "id": "900d9116",
   "metadata": {},
   "outputs": [],
   "source": [
    "median = housing[\"RM\"].median()# this will not affect the original data"
   ]
  },
  {
   "cell_type": "code",
   "execution_count": 29,
   "id": "657e0df7",
   "metadata": {},
   "outputs": [
    {
     "data": {
      "text/plain": [
       "6.179"
      ]
     },
     "execution_count": 29,
     "metadata": {},
     "output_type": "execute_result"
    }
   ],
   "source": [
    "median"
   ]
  },
  {
   "cell_type": "code",
   "execution_count": 30,
   "id": "d7031817",
   "metadata": {},
   "outputs": [
    {
     "data": {
      "text/plain": [
       "254    5.876\n",
       "348    6.939\n",
       "476    5.304\n",
       "321    6.041\n",
       "326    6.083\n",
       "       ...  \n",
       "154    6.152\n",
       "423    5.565\n",
       "98     7.416\n",
       "455    5.976\n",
       "215    5.888\n",
       "Name: RM, Length: 404, dtype: float64"
      ]
     },
     "execution_count": 30,
     "metadata": {},
     "output_type": "execute_result"
    }
   ],
   "source": [
    "housing[\"RM\"].fillna(median)# this will not affect the original data"
   ]
  },
  {
   "cell_type": "code",
   "execution_count": 31,
   "id": "589bf9b3",
   "metadata": {},
   "outputs": [
    {
     "data": {
      "text/plain": [
       "SimpleImputer(strategy='median')"
      ]
     },
     "execution_count": 31,
     "metadata": {},
     "output_type": "execute_result"
    }
   ],
   "source": [
    "from sklearn.impute import SimpleImputer\n",
    "imputer = SimpleImputer(strategy =\"median\")\n",
    "imputer.fit(housing)"
   ]
  },
  {
   "cell_type": "code",
   "execution_count": null,
   "id": "34bdee9e",
   "metadata": {},
   "outputs": [],
   "source": []
  },
  {
   "cell_type": "code",
   "execution_count": 32,
   "id": "b4ec4a4c",
   "metadata": {},
   "outputs": [
    {
     "data": {
      "text/plain": [
       "array([2.9025e-01, 0.0000e+00, 9.9000e+00, 0.0000e+00, 5.3800e-01,\n",
       "       6.1790e+00, 7.7500e+01, 3.1675e+00, 5.0000e+00, 3.3600e+02,\n",
       "       1.9050e+01, 3.9094e+02, 1.1570e+01])"
      ]
     },
     "execution_count": 32,
     "metadata": {},
     "output_type": "execute_result"
    }
   ],
   "source": [
    "imputer.statistics_"
   ]
  },
  {
   "cell_type": "code",
   "execution_count": 33,
   "id": "9c23672d",
   "metadata": {},
   "outputs": [],
   "source": [
    "x = imputer.transform(housing)"
   ]
  },
  {
   "cell_type": "code",
   "execution_count": 34,
   "id": "bd135aac",
   "metadata": {},
   "outputs": [
    {
     "data": {
      "text/html": [
       "<div>\n",
       "<style scoped>\n",
       "    .dataframe tbody tr th:only-of-type {\n",
       "        vertical-align: middle;\n",
       "    }\n",
       "\n",
       "    .dataframe tbody tr th {\n",
       "        vertical-align: top;\n",
       "    }\n",
       "\n",
       "    .dataframe thead th {\n",
       "        text-align: right;\n",
       "    }\n",
       "</style>\n",
       "<table border=\"1\" class=\"dataframe\">\n",
       "  <thead>\n",
       "    <tr style=\"text-align: right;\">\n",
       "      <th></th>\n",
       "      <th>CRIM</th>\n",
       "      <th>ZN</th>\n",
       "      <th>INDUS</th>\n",
       "      <th>CHAS</th>\n",
       "      <th>NOX</th>\n",
       "      <th>RM</th>\n",
       "      <th>AGE</th>\n",
       "      <th>DIS</th>\n",
       "      <th>RAD</th>\n",
       "      <th>TAX</th>\n",
       "      <th>PTRATIO</th>\n",
       "      <th>B</th>\n",
       "      <th>LSTAT</th>\n",
       "    </tr>\n",
       "  </thead>\n",
       "  <tbody>\n",
       "    <tr>\n",
       "      <th>count</th>\n",
       "      <td>404.000000</td>\n",
       "      <td>404.000000</td>\n",
       "      <td>404.000000</td>\n",
       "      <td>404.000000</td>\n",
       "      <td>404.000000</td>\n",
       "      <td>404.000000</td>\n",
       "      <td>404.000000</td>\n",
       "      <td>404.000000</td>\n",
       "      <td>404.000000</td>\n",
       "      <td>404.000000</td>\n",
       "      <td>404.000000</td>\n",
       "      <td>404.000000</td>\n",
       "      <td>404.000000</td>\n",
       "    </tr>\n",
       "    <tr>\n",
       "      <th>mean</th>\n",
       "      <td>3.680733</td>\n",
       "      <td>10.189356</td>\n",
       "      <td>11.305965</td>\n",
       "      <td>0.069307</td>\n",
       "      <td>0.557274</td>\n",
       "      <td>6.251220</td>\n",
       "      <td>68.548020</td>\n",
       "      <td>3.778549</td>\n",
       "      <td>9.702970</td>\n",
       "      <td>411.428218</td>\n",
       "      <td>18.502723</td>\n",
       "      <td>353.522649</td>\n",
       "      <td>12.833292</td>\n",
       "    </tr>\n",
       "    <tr>\n",
       "      <th>std</th>\n",
       "      <td>8.249705</td>\n",
       "      <td>21.930822</td>\n",
       "      <td>6.817698</td>\n",
       "      <td>0.254290</td>\n",
       "      <td>0.116503</td>\n",
       "      <td>0.688313</td>\n",
       "      <td>28.433028</td>\n",
       "      <td>2.125958</td>\n",
       "      <td>8.754489</td>\n",
       "      <td>168.237476</td>\n",
       "      <td>2.117437</td>\n",
       "      <td>95.111003</td>\n",
       "      <td>7.199418</td>\n",
       "    </tr>\n",
       "    <tr>\n",
       "      <th>min</th>\n",
       "      <td>0.009060</td>\n",
       "      <td>0.000000</td>\n",
       "      <td>0.740000</td>\n",
       "      <td>0.000000</td>\n",
       "      <td>0.385000</td>\n",
       "      <td>3.561000</td>\n",
       "      <td>2.900000</td>\n",
       "      <td>1.129600</td>\n",
       "      <td>1.000000</td>\n",
       "      <td>187.000000</td>\n",
       "      <td>13.000000</td>\n",
       "      <td>0.320000</td>\n",
       "      <td>1.730000</td>\n",
       "    </tr>\n",
       "    <tr>\n",
       "      <th>25%</th>\n",
       "      <td>0.090060</td>\n",
       "      <td>0.000000</td>\n",
       "      <td>5.190000</td>\n",
       "      <td>0.000000</td>\n",
       "      <td>0.452000</td>\n",
       "      <td>5.875000</td>\n",
       "      <td>44.850000</td>\n",
       "      <td>2.070275</td>\n",
       "      <td>4.000000</td>\n",
       "      <td>284.000000</td>\n",
       "      <td>17.400000</td>\n",
       "      <td>374.237500</td>\n",
       "      <td>7.362500</td>\n",
       "    </tr>\n",
       "    <tr>\n",
       "      <th>50%</th>\n",
       "      <td>0.290250</td>\n",
       "      <td>0.000000</td>\n",
       "      <td>9.900000</td>\n",
       "      <td>0.000000</td>\n",
       "      <td>0.538000</td>\n",
       "      <td>6.179000</td>\n",
       "      <td>77.500000</td>\n",
       "      <td>3.167500</td>\n",
       "      <td>5.000000</td>\n",
       "      <td>336.000000</td>\n",
       "      <td>19.050000</td>\n",
       "      <td>390.940000</td>\n",
       "      <td>11.570000</td>\n",
       "    </tr>\n",
       "    <tr>\n",
       "      <th>75%</th>\n",
       "      <td>3.694070</td>\n",
       "      <td>3.125000</td>\n",
       "      <td>18.100000</td>\n",
       "      <td>0.000000</td>\n",
       "      <td>0.625750</td>\n",
       "      <td>6.604500</td>\n",
       "      <td>94.600000</td>\n",
       "      <td>5.104475</td>\n",
       "      <td>24.000000</td>\n",
       "      <td>666.000000</td>\n",
       "      <td>20.200000</td>\n",
       "      <td>396.157500</td>\n",
       "      <td>16.977500</td>\n",
       "    </tr>\n",
       "    <tr>\n",
       "      <th>max</th>\n",
       "      <td>73.534100</td>\n",
       "      <td>100.000000</td>\n",
       "      <td>27.740000</td>\n",
       "      <td>1.000000</td>\n",
       "      <td>0.871000</td>\n",
       "      <td>8.780000</td>\n",
       "      <td>100.000000</td>\n",
       "      <td>12.126500</td>\n",
       "      <td>24.000000</td>\n",
       "      <td>711.000000</td>\n",
       "      <td>22.000000</td>\n",
       "      <td>396.900000</td>\n",
       "      <td>37.970000</td>\n",
       "    </tr>\n",
       "  </tbody>\n",
       "</table>\n",
       "</div>"
      ],
      "text/plain": [
       "             CRIM          ZN       INDUS        CHAS         NOX          RM  \\\n",
       "count  404.000000  404.000000  404.000000  404.000000  404.000000  404.000000   \n",
       "mean     3.680733   10.189356   11.305965    0.069307    0.557274    6.251220   \n",
       "std      8.249705   21.930822    6.817698    0.254290    0.116503    0.688313   \n",
       "min      0.009060    0.000000    0.740000    0.000000    0.385000    3.561000   \n",
       "25%      0.090060    0.000000    5.190000    0.000000    0.452000    5.875000   \n",
       "50%      0.290250    0.000000    9.900000    0.000000    0.538000    6.179000   \n",
       "75%      3.694070    3.125000   18.100000    0.000000    0.625750    6.604500   \n",
       "max     73.534100  100.000000   27.740000    1.000000    0.871000    8.780000   \n",
       "\n",
       "              AGE         DIS         RAD         TAX     PTRATIO           B  \\\n",
       "count  404.000000  404.000000  404.000000  404.000000  404.000000  404.000000   \n",
       "mean    68.548020    3.778549    9.702970  411.428218   18.502723  353.522649   \n",
       "std     28.433028    2.125958    8.754489  168.237476    2.117437   95.111003   \n",
       "min      2.900000    1.129600    1.000000  187.000000   13.000000    0.320000   \n",
       "25%     44.850000    2.070275    4.000000  284.000000   17.400000  374.237500   \n",
       "50%     77.500000    3.167500    5.000000  336.000000   19.050000  390.940000   \n",
       "75%     94.600000    5.104475   24.000000  666.000000   20.200000  396.157500   \n",
       "max    100.000000   12.126500   24.000000  711.000000   22.000000  396.900000   \n",
       "\n",
       "            LSTAT  \n",
       "count  404.000000  \n",
       "mean    12.833292  \n",
       "std      7.199418  \n",
       "min      1.730000  \n",
       "25%      7.362500  \n",
       "50%     11.570000  \n",
       "75%     16.977500  \n",
       "max     37.970000  "
      ]
     },
     "execution_count": 34,
     "metadata": {},
     "output_type": "execute_result"
    }
   ],
   "source": [
    "housing_tr = pd.DataFrame(x, columns = housing.columns)\n",
    "housing_tr.describe()"
   ]
  },
  {
   "cell_type": "markdown",
   "id": "87d4e102",
   "metadata": {},
   "source": [
    "## sklearn design\n"
   ]
  },
  {
   "cell_type": "markdown",
   "id": "e72ee502",
   "metadata": {},
   "source": [
    "three types of objects are:-\n",
    "1. estimators - it estimates some parameter based on a dataset. eg = imputer, it has also a fit method and transform method\n",
    "   fit method - fits the dataset and calculates internal parameters\n",
    "   \n",
    "2. transformers -  transform method takes input and return output based on the learnings from fit(). it has also a conveneince method called fit_transform() which fits and transform data\n",
    "\n",
    "3. predictors - linear regression model is the example. predicts() and fits() two common function. it also gives score which will evaluate the predictions\n",
    "    "
   ]
  },
  {
   "cell_type": "markdown",
   "id": "25df74a5",
   "metadata": {},
   "source": [
    "## feature scaling"
   ]
  },
  {
   "cell_type": "markdown",
   "id": "21803b97",
   "metadata": {},
   "source": [
    "primarily , there are two types of feature scaling:\n",
    "1 min-max method(normalisation)- (value - min)/ (max- min)   -->(0,1)\n",
    "sklearn provides a class called min-max scaler\n",
    "\n",
    "2 standardisation -\n",
    "(value - mean)/ std\n",
    "sklearn provides a standard scaler for this\n"
   ]
  },
  {
   "cell_type": "markdown",
   "id": "f4b7ab5f",
   "metadata": {},
   "source": [
    "## creating a pipeline"
   ]
  },
  {
   "cell_type": "code",
   "execution_count": 35,
   "id": "7bc38057",
   "metadata": {},
   "outputs": [],
   "source": [
    "from sklearn.pipeline import Pipeline\n",
    "from sklearn.preprocessing import StandardScaler\n",
    "my_pipeline = Pipeline([\n",
    "    ('imputer',SimpleImputer(strategy ='median')),\n",
    "    ('std_scaler', StandardScaler()),\n",
    "])"
   ]
  },
  {
   "cell_type": "code",
   "execution_count": 36,
   "id": "83e5a551",
   "metadata": {},
   "outputs": [],
   "source": [
    "housing_num_tr = my_pipeline.fit_transform(housing_tr)"
   ]
  },
  {
   "cell_type": "code",
   "execution_count": 37,
   "id": "7e35ddc8",
   "metadata": {},
   "outputs": [
    {
     "data": {
      "text/plain": [
       "(404, 13)"
      ]
     },
     "execution_count": 37,
     "metadata": {},
     "output_type": "execute_result"
    }
   ],
   "source": [
    "housing_num_tr.shape"
   ]
  },
  {
   "cell_type": "markdown",
   "id": "c7bcb022",
   "metadata": {},
   "source": [
    "## selecting a desired model for dragon real estates"
   ]
  },
  {
   "cell_type": "code",
   "execution_count": 38,
   "id": "42394809",
   "metadata": {},
   "outputs": [
    {
     "data": {
      "text/plain": [
       "RandomForestRegressor()"
      ]
     },
     "execution_count": 38,
     "metadata": {},
     "output_type": "execute_result"
    }
   ],
   "source": [
    "from sklearn.linear_model import LinearRegression\n",
    "from sklearn.tree import DecisionTreeRegressor\n",
    "from sklearn.ensemble import RandomForestRegressor\n",
    "# model = LinearRegression()\n",
    "# model = DecisionTreeRegressor()\n",
    "model = RandomForestRegressor()\n",
    "model.fit(housing_num_tr, housing_labels)"
   ]
  },
  {
   "cell_type": "code",
   "execution_count": 39,
   "id": "1f3bde15",
   "metadata": {},
   "outputs": [],
   "source": [
    "some_data = housing.iloc[:5]"
   ]
  },
  {
   "cell_type": "code",
   "execution_count": 40,
   "id": "c8311cb1",
   "metadata": {},
   "outputs": [],
   "source": [
    "some_labels = housing_labels.iloc[:5]"
   ]
  },
  {
   "cell_type": "code",
   "execution_count": 41,
   "id": "530e9a8b",
   "metadata": {},
   "outputs": [],
   "source": [
    "prepared_data = my_pipeline.transform(some_data)"
   ]
  },
  {
   "cell_type": "code",
   "execution_count": 42,
   "id": "ae87b121",
   "metadata": {},
   "outputs": [
    {
     "data": {
      "text/plain": [
       "array([20.463, 27.33 , 12.8  , 21.064, 22.049])"
      ]
     },
     "execution_count": 42,
     "metadata": {},
     "output_type": "execute_result"
    }
   ],
   "source": [
    "model.predict(prepared_data)"
   ]
  },
  {
   "cell_type": "code",
   "execution_count": 43,
   "id": "6c366531",
   "metadata": {},
   "outputs": [
    {
     "data": {
      "text/plain": [
       "[20.9, 26.6, 12.0, 20.4, 22.2]"
      ]
     },
     "execution_count": 43,
     "metadata": {},
     "output_type": "execute_result"
    }
   ],
   "source": [
    "list(some_labels)"
   ]
  },
  {
   "cell_type": "markdown",
   "id": "6144c8f7",
   "metadata": {},
   "source": [
    "## evaluating the model"
   ]
  },
  {
   "cell_type": "code",
   "execution_count": 44,
   "id": "7f68dde4",
   "metadata": {},
   "outputs": [],
   "source": [
    "from sklearn.metrics import mean_squared_error\n",
    "import numpy as np\n",
    "housing_predictions = model.predict(housing_num_tr)\n",
    "lin_mse = mean_squared_error(housing_labels , housing_predictions)\n",
    "lin_rmse = np.sqrt(lin_mse)"
   ]
  },
  {
   "cell_type": "code",
   "execution_count": 45,
   "id": "7ed36897",
   "metadata": {},
   "outputs": [
    {
     "data": {
      "text/plain": [
       "1.266160341307921"
      ]
     },
     "execution_count": 45,
     "metadata": {},
     "output_type": "execute_result"
    }
   ],
   "source": [
    "lin_rmse"
   ]
  },
  {
   "cell_type": "markdown",
   "id": "86fc43e4",
   "metadata": {},
   "source": [
    "## using better validation technique - cross validation"
   ]
  },
  {
   "cell_type": "code",
   "execution_count": 46,
   "id": "1d0e09af",
   "metadata": {},
   "outputs": [],
   "source": [
    "from sklearn.model_selection import cross_val_score\n",
    "scores = cross_val_score(model,housing_num_tr,housing_labels,scoring = \"neg_mean_squared_error\", cv = 10)\n",
    "rmse_scores = np.sqrt(-scores)"
   ]
  },
  {
   "cell_type": "code",
   "execution_count": 47,
   "id": "40fda54d",
   "metadata": {},
   "outputs": [
    {
     "data": {
      "text/plain": [
       "array([3.31510822, 2.48135359, 5.0150652 , 2.75152549, 2.78383133,\n",
       "       2.55897261, 2.90080557, 2.87992206, 1.98476594, 4.67964171])"
      ]
     },
     "execution_count": 47,
     "metadata": {},
     "output_type": "execute_result"
    }
   ],
   "source": [
    "rmse_scores\n"
   ]
  },
  {
   "cell_type": "code",
   "execution_count": 48,
   "id": "b0bde60f",
   "metadata": {},
   "outputs": [],
   "source": [
    "def print_scores(scores):\n",
    "    print(\"scores:\", scores)\n",
    "    print(\"mean:\", scores.mean())\n",
    "    print(\"std:\", scores.std())"
   ]
  },
  {
   "cell_type": "code",
   "execution_count": 49,
   "id": "4ba30bb7",
   "metadata": {},
   "outputs": [
    {
     "name": "stdout",
     "output_type": "stream",
     "text": [
      "scores: [3.31510822 2.48135359 5.0150652  2.75152549 2.78383133 2.55897261\n",
      " 2.90080557 2.87992206 1.98476594 4.67964171]\n",
      "mean: 3.1350991720034544\n",
      "std: 0.9178989895385724\n"
     ]
    }
   ],
   "source": [
    "print_scores(rmse_scores)"
   ]
  },
  {
   "cell_type": "code",
   "execution_count": 50,
   "id": "0147e690",
   "metadata": {},
   "outputs": [
    {
     "data": {
      "text/plain": [
       "['dg.joblib']"
      ]
     },
     "execution_count": 50,
     "metadata": {},
     "output_type": "execute_result"
    }
   ],
   "source": [
    " import joblib\n",
    "joblib.dump(model, 'dg.joblib')"
   ]
  },
  {
   "cell_type": "code",
   "execution_count": 51,
   "id": "2921a665",
   "metadata": {},
   "outputs": [],
   "source": [
    "x_test = strat_test_set.drop(\"MEDV\", axis = 1)\n",
    "y_test = strat_test_set[\"MEDV\"].copy()\n",
    "x_test_prepared = my_pipeline.transform(x_test)\n",
    "final_predictions = model.predict(x_test_prepared)\n",
    "final_mse = mean_squared_error(y_test , final_predictions)\n",
    "final_rmse = np.sqrt(final_mse)"
   ]
  },
  {
   "cell_type": "code",
   "execution_count": 52,
   "id": "4b8022f1",
   "metadata": {},
   "outputs": [
    {
     "data": {
      "text/plain": [
       "3.5616585426255307"
      ]
     },
     "execution_count": 52,
     "metadata": {},
     "output_type": "execute_result"
    }
   ],
   "source": [
    "final_rmse"
   ]
  },
  {
   "cell_type": "markdown",
   "id": "d3a32b61",
   "metadata": {},
   "source": [
    "# completed"
   ]
  },
  {
   "cell_type": "code",
   "execution_count": 53,
   "id": "03e2434b",
   "metadata": {},
   "outputs": [
    {
     "data": {
      "text/plain": [
       "array([-0.44241248,  3.18716752, -1.12581552, -0.27288841, -1.42038605,\n",
       "       -0.54580587, -1.7412613 ,  2.56284386, -0.99534776, -0.57387797,\n",
       "       -0.99428207,  0.43852974, -0.49833679])"
      ]
     },
     "execution_count": 53,
     "metadata": {},
     "output_type": "execute_result"
    }
   ],
   "source": [
    "prepared_data[0]"
   ]
  },
  {
   "cell_type": "code",
   "execution_count": null,
   "id": "c36a42a4",
   "metadata": {},
   "outputs": [],
   "source": []
  }
 ],
 "metadata": {
  "kernelspec": {
   "display_name": "Python 3 (ipykernel)",
   "language": "python",
   "name": "python3"
  },
  "language_info": {
   "codemirror_mode": {
    "name": "ipython",
    "version": 3
   },
   "file_extension": ".py",
   "mimetype": "text/x-python",
   "name": "python",
   "nbconvert_exporter": "python",
   "pygments_lexer": "ipython3",
   "version": "3.9.7"
  }
 },
 "nbformat": 4,
 "nbformat_minor": 5
}
